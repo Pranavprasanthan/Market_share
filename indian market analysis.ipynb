{
 "cells": [
  {
   "cell_type": "code",
   "execution_count": 1,
   "id": "6954a3ef",
   "metadata": {},
   "outputs": [],
   "source": [
    "import numpy as np\n",
    "import pandas as pd\n",
    "import matplotlib.pyplot as plt\n",
    "plt.rcParams['figure.figsize'] = (18,14)"
   ]
  },
  {
   "cell_type": "code",
   "execution_count": 3,
   "id": "8635629d",
   "metadata": {},
   "outputs": [
    {
     "data": {
      "text/html": [
       "<div>\n",
       "<style scoped>\n",
       "    .dataframe tbody tr th:only-of-type {\n",
       "        vertical-align: middle;\n",
       "    }\n",
       "\n",
       "    .dataframe tbody tr th {\n",
       "        vertical-align: top;\n",
       "    }\n",
       "\n",
       "    .dataframe thead th {\n",
       "        text-align: right;\n",
       "    }\n",
       "</style>\n",
       "<table border=\"1\" class=\"dataframe\">\n",
       "  <thead>\n",
       "    <tr style=\"text-align: right;\">\n",
       "      <th></th>\n",
       "      <th>company_name</th>\n",
       "      <th>job_title</th>\n",
       "      <th>min_experience</th>\n",
       "      <th>avg_salary</th>\n",
       "      <th>min_salary</th>\n",
       "      <th>max_salary</th>\n",
       "      <th>num_of_salaries</th>\n",
       "    </tr>\n",
       "  </thead>\n",
       "  <tbody>\n",
       "    <tr>\n",
       "      <th>0</th>\n",
       "      <td>TCS</td>\n",
       "      <td>Data Scientist</td>\n",
       "      <td>2</td>\n",
       "      <td>7.8L</td>\n",
       "      <td>4.5L</td>\n",
       "      <td>16.0L</td>\n",
       "      <td>841</td>\n",
       "    </tr>\n",
       "    <tr>\n",
       "      <th>1</th>\n",
       "      <td>Accenture</td>\n",
       "      <td>Data Scientist</td>\n",
       "      <td>2</td>\n",
       "      <td>12.8L</td>\n",
       "      <td>5.8L</td>\n",
       "      <td>23.0L</td>\n",
       "      <td>501</td>\n",
       "    </tr>\n",
       "    <tr>\n",
       "      <th>2</th>\n",
       "      <td>IBM</td>\n",
       "      <td>Data Scientist</td>\n",
       "      <td>2</td>\n",
       "      <td>13.4L</td>\n",
       "      <td>5.3L</td>\n",
       "      <td>25.0L</td>\n",
       "      <td>394</td>\n",
       "    </tr>\n",
       "    <tr>\n",
       "      <th>3</th>\n",
       "      <td>Cognizant</td>\n",
       "      <td>Data Scientist</td>\n",
       "      <td>2</td>\n",
       "      <td>9.8L</td>\n",
       "      <td>5.0L</td>\n",
       "      <td>18.0L</td>\n",
       "      <td>318</td>\n",
       "    </tr>\n",
       "    <tr>\n",
       "      <th>4</th>\n",
       "      <td>Capgemini</td>\n",
       "      <td>Data Scientist</td>\n",
       "      <td>2</td>\n",
       "      <td>8.6L</td>\n",
       "      <td>4.8L</td>\n",
       "      <td>14.6L</td>\n",
       "      <td>300</td>\n",
       "    </tr>\n",
       "  </tbody>\n",
       "</table>\n",
       "</div>"
      ],
      "text/plain": [
       "  company_name       job_title  min_experience avg_salary min_salary  \\\n",
       "0          TCS  Data Scientist               2       7.8L       4.5L   \n",
       "1    Accenture  Data Scientist               2      12.8L       5.8L   \n",
       "2          IBM  Data Scientist               2      13.4L       5.3L   \n",
       "3    Cognizant  Data Scientist               2       9.8L       5.0L   \n",
       "4    Capgemini  Data Scientist               2       8.6L       4.8L   \n",
       "\n",
       "  max_salary  num_of_salaries  \n",
       "0      16.0L              841  \n",
       "1      23.0L              501  \n",
       "2      25.0L              394  \n",
       "3      18.0L              318  \n",
       "4      14.6L              300  "
      ]
     },
     "execution_count": 3,
     "metadata": {},
     "output_type": "execute_result"
    }
   ],
   "source": [
    "df_1 = pd.read_csv(r\"C:\\Users\\Pranav Prasanth\\Desktop\\data science project\\indian market analysis\\Data_Science_Jobs_in_India.csv\", index_col=[0])\n",
    "df_1.head()"
   ]
  },
  {
   "cell_type": "code",
   "execution_count": 4,
   "id": "307d276e",
   "metadata": {},
   "outputs": [
    {
     "data": {
      "text/html": [
       "<div>\n",
       "<style scoped>\n",
       "    .dataframe tbody tr th:only-of-type {\n",
       "        vertical-align: middle;\n",
       "    }\n",
       "\n",
       "    .dataframe tbody tr th {\n",
       "        vertical-align: top;\n",
       "    }\n",
       "\n",
       "    .dataframe thead th {\n",
       "        text-align: right;\n",
       "    }\n",
       "</style>\n",
       "<table border=\"1\" class=\"dataframe\">\n",
       "  <thead>\n",
       "    <tr style=\"text-align: right;\">\n",
       "      <th></th>\n",
       "      <th>job_title</th>\n",
       "      <th>min_experience</th>\n",
       "      <th>avg_salary</th>\n",
       "      <th>min_salary</th>\n",
       "      <th>max_salary</th>\n",
       "      <th>num_of_salaries</th>\n",
       "    </tr>\n",
       "    <tr>\n",
       "      <th>company_name</th>\n",
       "      <th></th>\n",
       "      <th></th>\n",
       "      <th></th>\n",
       "      <th></th>\n",
       "      <th></th>\n",
       "      <th></th>\n",
       "    </tr>\n",
       "  </thead>\n",
       "  <tbody>\n",
       "    <tr>\n",
       "      <th>TCS</th>\n",
       "      <td>Data Scientist</td>\n",
       "      <td>2</td>\n",
       "      <td>7.8L</td>\n",
       "      <td>4.5L</td>\n",
       "      <td>16.0L</td>\n",
       "      <td>841</td>\n",
       "    </tr>\n",
       "    <tr>\n",
       "      <th>Accenture</th>\n",
       "      <td>Data Scientist</td>\n",
       "      <td>2</td>\n",
       "      <td>12.8L</td>\n",
       "      <td>5.8L</td>\n",
       "      <td>23.0L</td>\n",
       "      <td>501</td>\n",
       "    </tr>\n",
       "    <tr>\n",
       "      <th>IBM</th>\n",
       "      <td>Data Scientist</td>\n",
       "      <td>2</td>\n",
       "      <td>13.4L</td>\n",
       "      <td>5.3L</td>\n",
       "      <td>25.0L</td>\n",
       "      <td>394</td>\n",
       "    </tr>\n",
       "    <tr>\n",
       "      <th>Cognizant</th>\n",
       "      <td>Data Scientist</td>\n",
       "      <td>2</td>\n",
       "      <td>9.8L</td>\n",
       "      <td>5.0L</td>\n",
       "      <td>18.0L</td>\n",
       "      <td>318</td>\n",
       "    </tr>\n",
       "    <tr>\n",
       "      <th>Capgemini</th>\n",
       "      <td>Data Scientist</td>\n",
       "      <td>2</td>\n",
       "      <td>8.6L</td>\n",
       "      <td>4.8L</td>\n",
       "      <td>14.6L</td>\n",
       "      <td>300</td>\n",
       "    </tr>\n",
       "  </tbody>\n",
       "</table>\n",
       "</div>"
      ],
      "text/plain": [
       "                   job_title  min_experience avg_salary min_salary max_salary  \\\n",
       "company_name                                                                    \n",
       "TCS           Data Scientist               2       7.8L       4.5L      16.0L   \n",
       "Accenture     Data Scientist               2      12.8L       5.8L      23.0L   \n",
       "IBM           Data Scientist               2      13.4L       5.3L      25.0L   \n",
       "Cognizant     Data Scientist               2       9.8L       5.0L      18.0L   \n",
       "Capgemini     Data Scientist               2       8.6L       4.8L      14.6L   \n",
       "\n",
       "              num_of_salaries  \n",
       "company_name                   \n",
       "TCS                       841  \n",
       "Accenture                 501  \n",
       "IBM                       394  \n",
       "Cognizant                 318  \n",
       "Capgemini                 300  "
      ]
     },
     "execution_count": 4,
     "metadata": {},
     "output_type": "execute_result"
    }
   ],
   "source": [
    "df = df_1.set_index(\"company_name\")\n",
    "df.head()"
   ]
  },
  {
   "cell_type": "code",
   "execution_count": 5,
   "id": "a720de87",
   "metadata": {},
   "outputs": [
    {
     "data": {
      "text/plain": [
       "job_title          0\n",
       "min_experience     0\n",
       "avg_salary         0\n",
       "min_salary         0\n",
       "max_salary         0\n",
       "num_of_salaries    0\n",
       "dtype: int64"
      ]
     },
     "execution_count": 5,
     "metadata": {},
     "output_type": "execute_result"
    }
   ],
   "source": [
    "df.isnull().sum()"
   ]
  },
  {
   "cell_type": "code",
   "execution_count": 6,
   "id": "5f750e61",
   "metadata": {},
   "outputs": [],
   "source": [
    "df['job_title'] = df['job_title'].astype(str)\n",
    "df['min_experience'] = df['min_experience'].astype(int)\n",
    "df['avg_salary'] = df['avg_salary'].replace('L','')\n",
    "df['min_salary'] = df['min_salary'].replace('L','')\n",
    "df['max_salary'] = df['max_salary'].replace('L','')\n",
    "df['num_of_salaries'] = df['num_of_salaries'].astype(int)"
   ]
  },
  {
   "cell_type": "code",
   "execution_count": 7,
   "id": "55f3bb37",
   "metadata": {},
   "outputs": [
    {
     "data": {
      "text/html": [
       "<div>\n",
       "<style scoped>\n",
       "    .dataframe tbody tr th:only-of-type {\n",
       "        vertical-align: middle;\n",
       "    }\n",
       "\n",
       "    .dataframe tbody tr th {\n",
       "        vertical-align: top;\n",
       "    }\n",
       "\n",
       "    .dataframe thead th {\n",
       "        text-align: right;\n",
       "    }\n",
       "</style>\n",
       "<table border=\"1\" class=\"dataframe\">\n",
       "  <thead>\n",
       "    <tr style=\"text-align: right;\">\n",
       "      <th></th>\n",
       "      <th>job_title</th>\n",
       "      <th>num_of_salaries</th>\n",
       "    </tr>\n",
       "    <tr>\n",
       "      <th>company_name</th>\n",
       "      <th></th>\n",
       "      <th></th>\n",
       "    </tr>\n",
       "  </thead>\n",
       "  <tbody>\n",
       "    <tr>\n",
       "      <th>IBM</th>\n",
       "      <td>Data Scientist</td>\n",
       "      <td>394</td>\n",
       "    </tr>\n",
       "    <tr>\n",
       "      <th>IBM</th>\n",
       "      <td>Business Analyst</td>\n",
       "      <td>662</td>\n",
       "    </tr>\n",
       "    <tr>\n",
       "      <th>IBM</th>\n",
       "      <td>Data Analyst</td>\n",
       "      <td>297</td>\n",
       "    </tr>\n",
       "    <tr>\n",
       "      <th>IBM</th>\n",
       "      <td>Data Engineer</td>\n",
       "      <td>727</td>\n",
       "    </tr>\n",
       "    <tr>\n",
       "      <th>IBM</th>\n",
       "      <td>Senior Data Scientist</td>\n",
       "      <td>25</td>\n",
       "    </tr>\n",
       "    <tr>\n",
       "      <th>IBM</th>\n",
       "      <td>Senior Business Analyst</td>\n",
       "      <td>158</td>\n",
       "    </tr>\n",
       "    <tr>\n",
       "      <th>IBM</th>\n",
       "      <td>Senior Data Analyst</td>\n",
       "      <td>43</td>\n",
       "    </tr>\n",
       "    <tr>\n",
       "      <th>IBM</th>\n",
       "      <td>Senior Data Engineer</td>\n",
       "      <td>112</td>\n",
       "    </tr>\n",
       "    <tr>\n",
       "      <th>IBM</th>\n",
       "      <td>Machine Learning Engineer</td>\n",
       "      <td>18</td>\n",
       "    </tr>\n",
       "    <tr>\n",
       "      <th>IBM</th>\n",
       "      <td>Data Architect</td>\n",
       "      <td>44</td>\n",
       "    </tr>\n",
       "  </tbody>\n",
       "</table>\n",
       "</div>"
      ],
      "text/plain": [
       "                              job_title  num_of_salaries\n",
       "company_name                                            \n",
       "IBM                      Data Scientist              394\n",
       "IBM                    Business Analyst              662\n",
       "IBM                        Data Analyst              297\n",
       "IBM                       Data Engineer              727\n",
       "IBM               Senior Data Scientist               25\n",
       "IBM             Senior Business Analyst              158\n",
       "IBM                 Senior Data Analyst               43\n",
       "IBM                Senior Data Engineer              112\n",
       "IBM           Machine Learning Engineer               18\n",
       "IBM                      Data Architect               44"
      ]
     },
     "execution_count": 7,
     "metadata": {},
     "output_type": "execute_result"
    }
   ],
   "source": [
    "IBM = df.loc['IBM',['job_title','num_of_salaries']]\n",
    "IBM"
   ]
  },
  {
   "cell_type": "code",
   "execution_count": 8,
   "id": "83b1594b",
   "metadata": {},
   "outputs": [
    {
     "data": {
      "image/png": "[encoded data removed]",
      "text/plain": [
       "<Figure size 1296x1008 with 1 Axes>"
      ]
     },
     "metadata": {
      "needs_background": "light"
     },
     "output_type": "display_data"
    }
   ],
   "source": [
    "X = list(IBM['job_title'])\n",
    "Y = list(IBM['num_of_salaries'])\n",
    "plt.bar(X, Y, color='brown')\n",
    "plt.title(\"employees and salary scale of IBM\")\n",
    "plt.xlabel(\"job_title\")\n",
    "plt.ylabel(\"num_of_salaries\")\n",
    "plt.show()"
   ]
  },
  {
   "cell_type": "code",
   "execution_count": 9,
   "id": "3c8829da",
   "metadata": {},
   "outputs": [
    {
     "data": {
      "text/html": [
       "<div>\n",
       "<style scoped>\n",
       "    .dataframe tbody tr th:only-of-type {\n",
       "        vertical-align: middle;\n",
       "    }\n",
       "\n",
       "    .dataframe tbody tr th {\n",
       "        vertical-align: top;\n",
       "    }\n",
       "\n",
       "    .dataframe thead th {\n",
       "        text-align: right;\n",
       "    }\n",
       "</style>\n",
       "<table border=\"1\" class=\"dataframe\">\n",
       "  <thead>\n",
       "    <tr style=\"text-align: right;\">\n",
       "      <th></th>\n",
       "      <th>job_title</th>\n",
       "      <th>num_of_salaries</th>\n",
       "    </tr>\n",
       "    <tr>\n",
       "      <th>company_name</th>\n",
       "      <th></th>\n",
       "      <th></th>\n",
       "    </tr>\n",
       "  </thead>\n",
       "  <tbody>\n",
       "    <tr>\n",
       "      <th>TCS</th>\n",
       "      <td>Data Scientist</td>\n",
       "      <td>841</td>\n",
       "    </tr>\n",
       "    <tr>\n",
       "      <th>TCS</th>\n",
       "      <td>Business Analyst</td>\n",
       "      <td>4200</td>\n",
       "    </tr>\n",
       "    <tr>\n",
       "      <th>TCS</th>\n",
       "      <td>Data Analyst</td>\n",
       "      <td>1600</td>\n",
       "    </tr>\n",
       "    <tr>\n",
       "      <th>TCS</th>\n",
       "      <td>Data Engineer</td>\n",
       "      <td>819</td>\n",
       "    </tr>\n",
       "    <tr>\n",
       "      <th>TCS</th>\n",
       "      <td>Senior Data Scientist</td>\n",
       "      <td>79</td>\n",
       "    </tr>\n",
       "    <tr>\n",
       "      <th>TCS</th>\n",
       "      <td>Senior Business Analyst</td>\n",
       "      <td>1100</td>\n",
       "    </tr>\n",
       "    <tr>\n",
       "      <th>TCS</th>\n",
       "      <td>Senior Data Analyst</td>\n",
       "      <td>118</td>\n",
       "    </tr>\n",
       "    <tr>\n",
       "      <th>TCS</th>\n",
       "      <td>Senior Data Engineer</td>\n",
       "      <td>65</td>\n",
       "    </tr>\n",
       "    <tr>\n",
       "      <th>TCS</th>\n",
       "      <td>Machine Learning Engineer</td>\n",
       "      <td>193</td>\n",
       "    </tr>\n",
       "    <tr>\n",
       "      <th>TCS</th>\n",
       "      <td>Data Architect</td>\n",
       "      <td>49</td>\n",
       "    </tr>\n",
       "  </tbody>\n",
       "</table>\n",
       "</div>"
      ],
      "text/plain": [
       "                              job_title  num_of_salaries\n",
       "company_name                                            \n",
       "TCS                      Data Scientist              841\n",
       "TCS                    Business Analyst             4200\n",
       "TCS                        Data Analyst             1600\n",
       "TCS                       Data Engineer              819\n",
       "TCS               Senior Data Scientist               79\n",
       "TCS             Senior Business Analyst             1100\n",
       "TCS                 Senior Data Analyst              118\n",
       "TCS                Senior Data Engineer               65\n",
       "TCS           Machine Learning Engineer              193\n",
       "TCS                      Data Architect               49"
      ]
     },
     "execution_count": 9,
     "metadata": {},
     "output_type": "execute_result"
    }
   ],
   "source": [
    "TCS = df.loc['TCS',['job_title','num_of_salaries']]\n",
    "TCS"
   ]
  },
  {
   "cell_type": "code",
   "execution_count": 10,
   "id": "02e11d13",
   "metadata": {},
   "outputs": [
    {
     "data": {
      "image/png": "[encoded data removed]",
      "text/plain": [
       "<Figure size 1296x1008 with 1 Axes>"
      ]
     },
     "metadata": {
      "needs_background": "light"
     },
     "output_type": "display_data"
    }
   ],
   "source": [
    "X = list(TCS['job_title'])\n",
    "Y = list(TCS['num_of_salaries'])\n",
    "plt.bar(X, Y, color='navy')\n",
    "plt.title(\"employees and salary scale of TCS\")\n",
    "plt.xlabel(\"job_title\")\n",
    "plt.ylabel(\"num_of_salaries\")\n",
    "plt.show()"
   ]
  },
  {
   "cell_type": "code",
   "execution_count": 11,
   "id": "e9a61381",
   "metadata": {},
   "outputs": [
    {
     "data": {
      "text/html": [
       "<div>\n",
       "<style scoped>\n",
       "    .dataframe tbody tr th:only-of-type {\n",
       "        vertical-align: middle;\n",
       "    }\n",
       "\n",
       "    .dataframe tbody tr th {\n",
       "        vertical-align: top;\n",
       "    }\n",
       "\n",
       "    .dataframe thead th {\n",
       "        text-align: right;\n",
       "    }\n",
       "</style>\n",
       "<table border=\"1\" class=\"dataframe\">\n",
       "  <thead>\n",
       "    <tr style=\"text-align: right;\">\n",
       "      <th></th>\n",
       "      <th>job_title</th>\n",
       "      <th>num_of_salaries</th>\n",
       "    </tr>\n",
       "    <tr>\n",
       "      <th>company_name</th>\n",
       "      <th></th>\n",
       "      <th></th>\n",
       "    </tr>\n",
       "  </thead>\n",
       "  <tbody>\n",
       "    <tr>\n",
       "      <th>Accenture</th>\n",
       "      <td>Data Scientist</td>\n",
       "      <td>501</td>\n",
       "    </tr>\n",
       "    <tr>\n",
       "      <th>Accenture</th>\n",
       "      <td>Business Analyst</td>\n",
       "      <td>1900</td>\n",
       "    </tr>\n",
       "    <tr>\n",
       "      <th>Accenture</th>\n",
       "      <td>Data Analyst</td>\n",
       "      <td>1100</td>\n",
       "    </tr>\n",
       "    <tr>\n",
       "      <th>Accenture</th>\n",
       "      <td>Data Engineer</td>\n",
       "      <td>332</td>\n",
       "    </tr>\n",
       "    <tr>\n",
       "      <th>Accenture</th>\n",
       "      <td>Senior Data Scientist</td>\n",
       "      <td>80</td>\n",
       "    </tr>\n",
       "    <tr>\n",
       "      <th>Accenture</th>\n",
       "      <td>Senior Business Analyst</td>\n",
       "      <td>1100</td>\n",
       "    </tr>\n",
       "    <tr>\n",
       "      <th>Accenture</th>\n",
       "      <td>Senior Data Analyst</td>\n",
       "      <td>213</td>\n",
       "    </tr>\n",
       "    <tr>\n",
       "      <th>Accenture</th>\n",
       "      <td>Senior Data Engineer</td>\n",
       "      <td>83</td>\n",
       "    </tr>\n",
       "    <tr>\n",
       "      <th>Accenture</th>\n",
       "      <td>Machine Learning Engineer</td>\n",
       "      <td>61</td>\n",
       "    </tr>\n",
       "    <tr>\n",
       "      <th>Accenture</th>\n",
       "      <td>Data Architect</td>\n",
       "      <td>55</td>\n",
       "    </tr>\n",
       "  </tbody>\n",
       "</table>\n",
       "</div>"
      ],
      "text/plain": [
       "                              job_title  num_of_salaries\n",
       "company_name                                            \n",
       "Accenture                Data Scientist              501\n",
       "Accenture              Business Analyst             1900\n",
       "Accenture                  Data Analyst             1100\n",
       "Accenture                 Data Engineer              332\n",
       "Accenture         Senior Data Scientist               80\n",
       "Accenture       Senior Business Analyst             1100\n",
       "Accenture           Senior Data Analyst              213\n",
       "Accenture          Senior Data Engineer               83\n",
       "Accenture     Machine Learning Engineer               61\n",
       "Accenture                Data Architect               55"
      ]
     },
     "execution_count": 11,
     "metadata": {},
     "output_type": "execute_result"
    }
   ],
   "source": [
    "ACC = df.loc['Accenture',['job_title','num_of_salaries']]\n",
    "ACC"
   ]
  },
  {
   "cell_type": "code",
   "execution_count": 12,
   "id": "04d491c3",
   "metadata": {},
   "outputs": [
    {
     "data": {
      "image/png": "[encoded data removed]",
      "text/plain": [
       "<Figure size 1296x1008 with 1 Axes>"
      ]
     },
     "metadata": {
      "needs_background": "light"
     },
     "output_type": "display_data"
    }
   ],
   "source": [
    "X = list(ACC['job_title'])\n",
    "Y = list(ACC['num_of_salaries'])\n",
    "plt.bar(X, Y, color='grey')\n",
    "plt.title(\"employees and salary scale of Accenture\")\n",
    "plt.xlabel(\"job_title\")\n",
    "plt.ylabel(\"num_of_salaries\")\n",
    "plt.show()"
   ]
  },
  {
   "cell_type": "code",
   "execution_count": 13,
   "id": "417317d4",
   "metadata": {},
   "outputs": [
    {
     "data": {
      "text/html": [
       "<div>\n",
       "<style scoped>\n",
       "    .dataframe tbody tr th:only-of-type {\n",
       "        vertical-align: middle;\n",
       "    }\n",
       "\n",
       "    .dataframe tbody tr th {\n",
       "        vertical-align: top;\n",
       "    }\n",
       "\n",
       "    .dataframe thead th {\n",
       "        text-align: right;\n",
       "    }\n",
       "</style>\n",
       "<table border=\"1\" class=\"dataframe\">\n",
       "  <thead>\n",
       "    <tr style=\"text-align: right;\">\n",
       "      <th></th>\n",
       "      <th>job_title</th>\n",
       "      <th>num_of_salaries</th>\n",
       "    </tr>\n",
       "    <tr>\n",
       "      <th>company_name</th>\n",
       "      <th></th>\n",
       "      <th></th>\n",
       "    </tr>\n",
       "  </thead>\n",
       "  <tbody>\n",
       "    <tr>\n",
       "      <th>Cognizant</th>\n",
       "      <td>Data Scientist</td>\n",
       "      <td>318</td>\n",
       "    </tr>\n",
       "    <tr>\n",
       "      <th>Cognizant</th>\n",
       "      <td>Business Analyst</td>\n",
       "      <td>1100</td>\n",
       "    </tr>\n",
       "    <tr>\n",
       "      <th>Cognizant</th>\n",
       "      <td>Data Analyst</td>\n",
       "      <td>1200</td>\n",
       "    </tr>\n",
       "    <tr>\n",
       "      <th>Cognizant</th>\n",
       "      <td>Data Engineer</td>\n",
       "      <td>292</td>\n",
       "    </tr>\n",
       "    <tr>\n",
       "      <th>Cognizant</th>\n",
       "      <td>Senior Data Scientist</td>\n",
       "      <td>57</td>\n",
       "    </tr>\n",
       "    <tr>\n",
       "      <th>Cognizant</th>\n",
       "      <td>Senior Business Analyst</td>\n",
       "      <td>616</td>\n",
       "    </tr>\n",
       "    <tr>\n",
       "      <th>Cognizant</th>\n",
       "      <td>Senior Data Analyst</td>\n",
       "      <td>109</td>\n",
       "    </tr>\n",
       "    <tr>\n",
       "      <th>Cognizant</th>\n",
       "      <td>Senior Data Engineer</td>\n",
       "      <td>51</td>\n",
       "    </tr>\n",
       "    <tr>\n",
       "      <th>Cognizant</th>\n",
       "      <td>Machine Learning Engineer</td>\n",
       "      <td>28</td>\n",
       "    </tr>\n",
       "    <tr>\n",
       "      <th>Cognizant</th>\n",
       "      <td>Data Architect</td>\n",
       "      <td>42</td>\n",
       "    </tr>\n",
       "  </tbody>\n",
       "</table>\n",
       "</div>"
      ],
      "text/plain": [
       "                              job_title  num_of_salaries\n",
       "company_name                                            \n",
       "Cognizant                Data Scientist              318\n",
       "Cognizant              Business Analyst             1100\n",
       "Cognizant                  Data Analyst             1200\n",
       "Cognizant                 Data Engineer              292\n",
       "Cognizant         Senior Data Scientist               57\n",
       "Cognizant       Senior Business Analyst              616\n",
       "Cognizant           Senior Data Analyst              109\n",
       "Cognizant          Senior Data Engineer               51\n",
       "Cognizant     Machine Learning Engineer               28\n",
       "Cognizant                Data Architect               42"
      ]
     },
     "execution_count": 13,
     "metadata": {},
     "output_type": "execute_result"
    }
   ],
   "source": [
    "COG = df.loc['Cognizant',['job_title','num_of_salaries']]\n",
    "COG"
   ]
  },
  {
   "cell_type": "code",
   "execution_count": 14,
   "id": "a9bef118",
   "metadata": {},
   "outputs": [
    {
     "data": {
      "image/png": "[encoded data removed]",
      "text/plain": [
       "<Figure size 1296x1008 with 1 Axes>"
      ]
     },
     "metadata": {
      "needs_background": "light"
     },
     "output_type": "display_data"
    }
   ],
   "source": [
    "X = list(COG['job_title'])\n",
    "Y = list(COG['num_of_salaries'])\n",
    "plt.bar(X, Y, color='blue')\n",
    "plt.title(\"employees and salary scale of Accenture\")\n",
    "plt.xlabel(\"job_title\")\n",
    "plt.ylabel(\"num_of_salaries\")\n",
    "plt.show()"
   ]
  },
  {
   "cell_type": "code",
   "execution_count": 15,
   "id": "01a6ad76",
   "metadata": {},
   "outputs": [
    {
     "data": {
      "text/html": [
       "<div>\n",
       "<style scoped>\n",
       "    .dataframe tbody tr th:only-of-type {\n",
       "        vertical-align: middle;\n",
       "    }\n",
       "\n",
       "    .dataframe tbody tr th {\n",
       "        vertical-align: top;\n",
       "    }\n",
       "\n",
       "    .dataframe thead th {\n",
       "        text-align: right;\n",
       "    }\n",
       "</style>\n",
       "<table border=\"1\" class=\"dataframe\">\n",
       "  <thead>\n",
       "    <tr style=\"text-align: right;\">\n",
       "      <th></th>\n",
       "      <th>job_title</th>\n",
       "      <th>min_experience</th>\n",
       "      <th>avg_salary</th>\n",
       "      <th>min_salary</th>\n",
       "      <th>max_salary</th>\n",
       "      <th>num_of_salaries</th>\n",
       "    </tr>\n",
       "    <tr>\n",
       "      <th>company_name</th>\n",
       "      <th></th>\n",
       "      <th></th>\n",
       "      <th></th>\n",
       "      <th></th>\n",
       "      <th></th>\n",
       "      <th></th>\n",
       "    </tr>\n",
       "  </thead>\n",
       "  <tbody>\n",
       "    <tr>\n",
       "      <th>Cognizant</th>\n",
       "      <td>Data Scientist</td>\n",
       "      <td>2</td>\n",
       "      <td>9.8L</td>\n",
       "      <td>5.0L</td>\n",
       "      <td>18.0L</td>\n",
       "      <td>318</td>\n",
       "    </tr>\n",
       "    <tr>\n",
       "      <th>Cognizant</th>\n",
       "      <td>Business Analyst</td>\n",
       "      <td>1</td>\n",
       "      <td>8.6L</td>\n",
       "      <td>4.5L</td>\n",
       "      <td>14.0L</td>\n",
       "      <td>1100</td>\n",
       "    </tr>\n",
       "    <tr>\n",
       "      <th>Cognizant</th>\n",
       "      <td>Data Analyst</td>\n",
       "      <td>1</td>\n",
       "      <td>5.5L</td>\n",
       "      <td>2.9L</td>\n",
       "      <td>8.3L</td>\n",
       "      <td>1200</td>\n",
       "    </tr>\n",
       "    <tr>\n",
       "      <th>Cognizant</th>\n",
       "      <td>Data Engineer</td>\n",
       "      <td>1</td>\n",
       "      <td>7.5L</td>\n",
       "      <td>4.5L</td>\n",
       "      <td>13.3L</td>\n",
       "      <td>292</td>\n",
       "    </tr>\n",
       "    <tr>\n",
       "      <th>Cognizant</th>\n",
       "      <td>Senior Data Scientist</td>\n",
       "      <td>4</td>\n",
       "      <td>17.9L</td>\n",
       "      <td>12.0L</td>\n",
       "      <td>25.2L</td>\n",
       "      <td>57</td>\n",
       "    </tr>\n",
       "  </tbody>\n",
       "</table>\n",
       "</div>"
      ],
      "text/plain": [
       "                          job_title  min_experience avg_salary min_salary  \\\n",
       "company_name                                                                \n",
       "Cognizant            Data Scientist               2       9.8L       5.0L   \n",
       "Cognizant          Business Analyst               1       8.6L       4.5L   \n",
       "Cognizant              Data Analyst               1       5.5L       2.9L   \n",
       "Cognizant             Data Engineer               1       7.5L       4.5L   \n",
       "Cognizant     Senior Data Scientist               4      17.9L      12.0L   \n",
       "\n",
       "             max_salary  num_of_salaries  \n",
       "company_name                              \n",
       "Cognizant         18.0L              318  \n",
       "Cognizant         14.0L             1100  \n",
       "Cognizant          8.3L             1200  \n",
       "Cognizant         13.3L              292  \n",
       "Cognizant         25.2L               57  "
      ]
     },
     "execution_count": 15,
     "metadata": {},
     "output_type": "execute_result"
    }
   ],
   "source": [
    "df_2 = df.loc[['Cognizant','Accenture','TCS','IBM']]\n",
    "df_2.head()"
   ]
  },
  {
   "cell_type": "code",
   "execution_count": 16,
   "id": "613b2980",
   "metadata": {},
   "outputs": [
    {
     "data": {
      "text/plain": [
       "company_name\n",
       "Cognizant     318\n",
       "Cognizant    1100\n",
       "Cognizant    1200\n",
       "Cognizant     292\n",
       "Cognizant      57\n",
       "Name: num_of_salaries, dtype: int32"
      ]
     },
     "execution_count": 16,
     "metadata": {},
     "output_type": "execute_result"
    }
   ],
   "source": [
    "df_pie = df_2['num_of_salaries']\n",
    "df_pie.head()"
   ]
  },
  {
   "cell_type": "code",
   "execution_count": 17,
   "id": "90552289",
   "metadata": {},
   "outputs": [
    {
     "data": {
      "text/plain": [
       "<AxesSubplot:ylabel='num_of_salaries'>"
      ]
     },
     "execution_count": 17,
     "metadata": {},
     "output_type": "execute_result"
    },
    {
     "data": {
      "image/png": "[encoded data removed]",
      "text/plain": [
       "<Figure size 1296x1008 with 1 Axes>"
      ]
     },
     "metadata": {},
     "output_type": "display_data"
    }
   ],
   "source": [
    "colors = ['pink', 'silver', 'steelblue','green']\n",
    "df_pie.groupby(['company_name']).sum().plot(\n",
    "    kind='pie', \n",
    "  autopct='%1.0f%%', colors=colors)"
   ]
  },
  {
   "cell_type": "code",
   "execution_count": null,
   "id": "cfa12319",
   "metadata": {},
   "outputs": [],
   "source": []
  }
 ],
 "metadata": {
  "kernelspec": {
   "display_name": "Python 3 (ipykernel)",
   "language": "python",
   "name": "python3"
  },
  "language_info": {
   "codemirror_mode": {
    "name": "ipython",
    "version": 3
   },
   "file_extension": ".py",
   "mimetype": "text/x-python",
   "name": "python",
   "nbconvert_exporter": "python",
   "pygments_lexer": "ipython3",
   "version": "3.9.12"
  }
 },
 "nbformat": 4,
 "nbformat_minor": 5
}
